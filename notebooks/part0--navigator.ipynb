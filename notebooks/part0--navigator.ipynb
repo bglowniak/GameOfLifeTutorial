{
 "cells": [
  {
   "cell_type": "markdown",
   "metadata": {},
   "source": [
    "# Cellular Automata and Game of Life\n",
    "\n",
    "This 4-part tutorial examines the use of cellular automata as a simple yet powerful modeling technique for discrete systems. We utilize John Conway's Game of Life, a well-known example of this approach, as a vehicle to first explore the basic concepts, then to investigate methods of analyzing and expanding upon it.\n",
    "\n",
    "## Tutorial Contents\n",
    "\n",
    "* [Part 1 - Introduction to CA and Game of Life](part1--ca_intro.ipynb): This first tutorial explores the basic methodologies and terminologies of cellular auomation as well as introducing Game of Life via a Python implementation.\n",
    "\n",
    "ROUGH OUTLINE:\n",
    "\n",
    "* Part 2 - Expansions to Cellular Automata - exploring stochasticity, async updates, time-to-live, \n",
    "\n",
    "* Part 3 - Techniques for Analysis - phase space approximation, then mean field approximation (including cobweb plots). Compare mean field approximation to density plots. All of this analysis is from 12.3 and 12.4 of Sayama.\n",
    "\n",
    "* Part 4 - Exploring Emergent Behavior in Game of Life - exploring oscillators, pulsars, blinkers, and then diving into logic gates and information signals using glider guns, sierpinski triangle\n",
    "\n",
    "Different colors -> competition?\n",
    "\n",
    "## References\n",
    "\n",
    "sayama chapter 11 and 12\n",
    "\n",
    "other sources we've pulled from\n",
    "\n",
    "Stephen Wolfram's A New Kind of Science https://www.wolframscience.com/nks/\n",
    "\n",
    "Andrew Ilachinski's *Cellular Automata*\n",
    "\n",
    "## Contributors\n",
    "\n",
    "This project was developed by Brian Glowniak and Joel Katz, two CS undergraduate students at Georgia Tech, for CX 4230/CSE 6730 Computer Simulation during Spring 2019."
   ]
  }
 ],
 "metadata": {
  "kernelspec": {
   "display_name": "Python 3",
   "language": "python",
   "name": "python3"
  },
  "language_info": {
   "codemirror_mode": {
    "name": "ipython",
    "version": 3
   },
   "file_extension": ".py",
   "mimetype": "text/x-python",
   "name": "python",
   "nbconvert_exporter": "python",
   "pygments_lexer": "ipython3",
   "version": "3.7.1"
  }
 },
 "nbformat": 4,
 "nbformat_minor": 2
}
