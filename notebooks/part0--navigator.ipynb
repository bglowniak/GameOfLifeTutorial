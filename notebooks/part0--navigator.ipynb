{
 "cells": [
  {
   "cell_type": "markdown",
   "metadata": {},
   "source": [
    "# Cellular Automata and Game of Life\n",
    "\n",
    "This 4-part tutorial examines the use of cellular automata as a simple yet powerful modeling technique for discrete systems. We utilize John Conway's Game of Life, a well-known example of this approach, as a vehicle to first explore the basic concepts, then to investigate methods of analyzing and expanding upon it.\n",
    "\n",
    "## Tutorial Contents\n",
    "\n",
    "* [Part 1 - Introduction to CA and Game of Life](part1--ca_intro.ipynb): This first tutorial explores the basic methodologies and terminologies of cellular auomation as well as introducing Game of Life via a Python implementation.\n",
    "\n",
    "\n",
    "* [Part 2 - Expansions to Cellular Automata](part2--Expansions_to_CA.ipynb) - This tutorial experiments with extensions to the Game of Life, showing ways to explore and improve upon cellular automata.\n",
    "\n",
    "\n",
    "* [Part 3 - Exploring Patterns in Game of Life](part4--patterns.ipynb) - In this final tutorial, we investigate how complex behavior and patterns can emerge in even a simple CA.\n",
    "\n",
    "## Scripts\n",
    "\n",
    "All code for this tutorial can be found within our Github repo at https://github.gatech.edu/bglowniak3/CX-4230-Project-1/tree/master/scripts. The interested reader is invited to play around with these scripts to gain further insight into CA and Game of Life.\n",
    "\n",
    "## References\n",
    "\n",
    "sayama chapter 11 and 12\n",
    "\n",
    "other sources we've pulled from\n",
    "\n",
    "Stephen Wolfram's A New Kind of Science https://www.wolframscience.com/nks/\n",
    "\n",
    "Andrew Ilachinski's *Cellular Automata*\n",
    "\n",
    "## Contributors\n",
    "\n",
    "This project was developed by Brian Glowniak and Joel Katz, two CS undergraduate students at Georgia Tech, for CX 4230/CSE 6730 Computer Simulation during Spring 2019."
   ]
  }
 ],
 "metadata": {
  "kernelspec": {
   "display_name": "Python 3",
   "language": "python",
   "name": "python3"
  },
  "language_info": {
   "codemirror_mode": {
    "name": "ipython",
    "version": 3
   },
   "file_extension": ".py",
   "mimetype": "text/x-python",
   "name": "python",
   "nbconvert_exporter": "python",
   "pygments_lexer": "ipython3",
   "version": "3.6.4"
  }
 },
 "nbformat": 4,
 "nbformat_minor": 2
}
