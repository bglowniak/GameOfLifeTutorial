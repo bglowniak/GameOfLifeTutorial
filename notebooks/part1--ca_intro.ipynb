{
 "cells": [
  {
   "cell_type": "markdown",
   "metadata": {},
   "source": [
    "# Part 1: Introduction To Cellular Automata\n",
    "\n",
    "In the first part of this tutorial, we introduce the concept of a cellular automaton (CA), one of the first frameworks formulated to model complex systems, and explore how a seemingly simple schema can powerfully portray behavior in nonlinear dynamic systems. We then introduce our case study, Game of Life, which we will use throughout the extent of this tutorial to reinforce the concepts discussed.\n",
    "\n",
    "## 1.1 What is CA?\n",
    "\n",
    "Originally devised by mathematicians John von Neumann and Stanislaw Ulam in the 1940s, a cellular automaton consists of a regular *n x n* grid of cells, where each cell represents an individual *\"automaton.\"* In computer science and mathematics, the term *automaton* refers to a machine that consists primarily of an internal state that changes based on its inputs.\n",
    "\n",
    "CA are temporally and spatially discrete, which implies that\n",
    "\n",
    "despite its simplicity, the model achieves impressive diversity of behavior\n",
    "Though the schema itself is quite basic, complex macroscopic behavior can evolve from the individual interactions between cells. However, Before we , we need to build up a foundation of the concepts behind the \n",
    "\n",
    "1.1.a States and Transitions\n",
    "state set is finite\n",
    "transition functions\n",
    "\n",
    "1.1.b Neighborhoods\n",
    "moore and von neumann\n",
    "\n",
    "1.1.c Boundaries\n",
    "\n",
    "1.1.d Classes of Cellular Automata\n",
    "In the 1980s, computer scientist Stephen Wolfram published a book titled \n",
    "\n",
    "These definitions relate to how a cellular automaton evolves over time.\n",
    "\n",
    "1. Class 1: Initial patterns evolve into stable, homogeneous states regardless of randomness in the initial state\n",
    "2. Class 2: Initial patterns evolve into either stable or oscillating states.\n",
    "3. Class 3:\n",
    "4. Class 4:\n",
    "\n",
    "The interested reader is invited to explore \n",
    "\n",
    "\n",
    "\n",
    "conclusion and segue to game of life\n",
    "The set of concepts and rules defined above are not exhaustive. As it is with any form of modeling, the specifics rely heavy on the description and configuration of the problem itself.\n",
    "After this high level look at CA, we now have the basic concepts and definitions to be able to dive deeper \n",
    "\n",
    "\n",
    "## 1.2 A Case Study: Game of Life\n",
    "\n",
    "To accompany our exploration of this framework, we introduce \n",
    "\n",
    "Proposed by British mathematician John Conway in 1970, Game of Life is one of the most well-known examples of a cellular automaton\n",
    "\n",
    "In this section, we explore a basic Python implementation of Game of Life ... and to serve as a foundation for the rest of this tutorial.\n",
    "\n",
    "First, let's import our libraries. We utilize numpy for it"
   ]
  },
  {
   "cell_type": "code",
   "execution_count": 1,
   "metadata": {},
   "outputs": [],
   "source": [
    "import numpy as np\n",
    "import matplotlib.pyplot as plt\n",
    "import matplotlib.colors as colors\n",
    "import random\n",
    "from itertools import product"
   ]
  },
  {
   "cell_type": "markdown",
   "metadata": {},
   "source": [
    "Every cell consists of one of two self-explanatory states:\n",
    "1. Alive\n",
    "2. Dead (essentially an empty cell)\n",
    "    \n",
    "Let's associate these states with the integers 1 and 0. Although we could use booleans, using integers opens the door to possibly including more states when we expand the model in later tutorials."
   ]
  },
  {
   "cell_type": "code",
   "execution_count": 2,
   "metadata": {},
   "outputs": [],
   "source": [
    "# States:\n",
    "ALIVE = 1\n",
    "DEAD = 0"
   ]
  },
  {
   "cell_type": "markdown",
   "metadata": {},
   "source": [
    "With our states defined, we now need a way of generating \n",
    "\n",
    "mention initial conditions, how we represent the world, "
   ]
  },
  {
   "cell_type": "code",
   "execution_count": 3,
   "metadata": {},
   "outputs": [],
   "source": [
    "def init_world(n = 16, cluster_n = 4, clusters = 3, threshold = 0.25):\n",
    "    world = np.zeros((n, n), dtype=int)\n",
    "\n",
    "    for i in range(0, clusters):\n",
    "        x = random.randint(0, n - cluster_n)\n",
    "        y = random.randint(0, n - cluster_n)\n",
    "        for world_x in range(x, x + cluster_n):\n",
    "            for world_y in range(y, y + cluster_n):\n",
    "                if random.uniform(0, 1) >= (1 - threshold):\n",
    "                    world[world_x, world_y] = ALIVE\n",
    "\n",
    "    return world"
   ]
  },
  {
   "cell_type": "markdown",
   "metadata": {},
   "source": [
    "To draw our world, we utilize matplotlib"
   ]
  },
  {
   "cell_type": "code",
   "execution_count": 4,
   "metadata": {},
   "outputs": [
    {
     "data": {
      "image/png": "[encoded data removed]",
      "text/plain": [
       "<Figure size 432x288 with 1 Axes>"
      ]
     },
     "metadata": {
      "needs_background": "light"
     },
     "output_type": "display_data"
    }
   ],
   "source": [
    "def plot_world(world):\n",
    "    cmap = colors.ListedColormap(['white', 'red'])\n",
    "    plt.pcolor(world, cmap=cmap, edgecolor=\"black\")\n",
    "    plt.axis('square')\n",
    "    plt.show()\n",
    "    \n",
    "world = init_world() # initialize world with default conditions\n",
    "plot_world(world)"
   ]
  },
  {
   "cell_type": "markdown",
   "metadata": {},
   "source": [
    "Each time step is viewed as a *generation*. Transitions between generations follow the von Neumann neighborhood paradigm and are as follows:\n",
    "1. Any living cell with fewer than 2 neighbors dies **(underpopulation)**\n",
    "2. Any living cell with 2 or 3 neighbors lives on to the next generation\n",
    "3. Any living cell with more than 3 neighbors dies **(overpopulation)**\n",
    "4. Any dead cell with exactly 3 neighbors becomes a living cell **(reproduction)**"
   ]
  },
  {
   "cell_type": "code",
   "execution_count": null,
   "metadata": {},
   "outputs": [],
   "source": [
    "def update_cell(world, x, y):\n",
    "    num_alive = 0\n",
    "    current_state = world[x,y]\n",
    "\n",
    "    #count neighbors\n",
    "    x_range = range(max(x - 1, 0), min(x + 1, world.shape[0] - 1) + 1)\n",
    "    y_range = range(max(y - 1, 0), min(y + 1, world.shape[1] - 1) + 1)\n",
    "\n",
    "    for cell_x, cell_y in product(x_range, y_range):\n",
    "        if (not (cell_x, cell_y) == (x, y) and world[cell_x, cell_y] == ALIVE):\n",
    "            num_alive += 1\n",
    "\n",
    "    if (current_state == DEAD and not num_alive == 3):\n",
    "        return DEAD\n",
    "    elif (current_state == ALIVE and (num_alive < 2 or num_alive > 3)):\n",
    "        return DEAD\n",
    "    else:\n",
    "        return ALIVE"
   ]
  },
  {
   "cell_type": "markdown",
   "metadata": {},
   "source": [
    "not done, need timestep"
   ]
  },
  {
   "cell_type": "code",
   "execution_count": null,
   "metadata": {},
   "outputs": [],
   "source": [
    "def timestep(world):\n",
    "    rows = world.shape[0]\n",
    "    cols = world.shape[1]\n",
    "\n",
    "    new_state = np.zeros((rows, cols), dtype=int)\n",
    "    for x in range(0, rows):\n",
    "        for y in range(0, cols):\n",
    "            new_state[x,y] = update_cell(world, x, y)\n",
    "\n",
    "    return new_state"
   ]
  },
  {
   "cell_type": "markdown",
   "metadata": {},
   "source": [
    "note optimization/brute force, O(n^2)\n",
    "\n",
    "\n",
    "Boundaries\n",
    "\n",
    "\n",
    "\n",
    "\n",
    "\n",
    "\n",
    "## 1.3 Analysis of Game of Life?\n",
    "\n",
    "density plots, phase space?, transition diagrams?, cobweb plots?"
   ]
  }
 ],
 "metadata": {
  "kernelspec": {
   "display_name": "Python 3",
   "language": "python",
   "name": "python3"
  },
  "language_info": {
   "codemirror_mode": {
    "name": "ipython",
    "version": 3
   },
   "file_extension": ".py",
   "mimetype": "text/x-python",
   "name": "python",
   "nbconvert_exporter": "python",
   "pygments_lexer": "ipython3",
   "version": "3.7.1"
  }
 },
 "nbformat": 4,
 "nbformat_minor": 2
}
