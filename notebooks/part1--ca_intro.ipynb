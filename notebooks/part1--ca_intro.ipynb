{
 "cells": [
  {
   "attachments": {},
   "cell_type": "markdown",
   "metadata": {},
   "source": [
    "# Part 1: Introduction To Cellular Automata\n",
    "\n",
    "In the first part of this tutorial, we introduce the concept of a cellular automaton (CA), one of the first frameworks formulated to model complex systems, and explore how a seemingly simple schema can powerfully portray behavior in nonlinear dynamic systems. We then introduce our case study, Game of Life, which we will use throughout the extent of this tutorial to reinforce the concepts discussed.\n",
    "\n",
    "## 1.1 What are CA?\n",
    "\n",
    "Originally devised by mathematicians John von Neumann and Stanislaw Ulam in the 1940s, a cellular automaton consists of a regular *n x n* grid of cells, where each cell represents an individual *\"automaton.\"* In computer science and mathematics, the term *automaton* refers to a machine that consists primarily of an internal state that changes as a function of its inputs.\n",
    "\n",
    "CA are temporally and spatially discrete, which means that the simulation updates in a series of separate timesteps through interactions between distinct spatially distributed cells.\n",
    "\n",
    "In order to further discuss the framework, we first need to build up a foundation of some of the concepts and definitions behind it.\n",
    "\n",
    "#### 1.1.a States and Transitions\n",
    "\n",
    "At any given point in time, the *configuration* or *generation* of a CA \n",
    "\n",
    "The state set of each cell is finite and is defined based on the problem the model is trying to tackle.\n",
    "\n",
    "quiescent/non-quiescent states\n",
    "\n",
    "Each cell/automaton is essentially a dynamic variable that changes its state over time. \n",
    "These transitions are defined by a *state transition function* that takes in the stat\n",
    "\n",
    "<center>$s_{t+1}(x) = F(s_t(x_0), s_t(x_1), s_t(x_2),..., s_t(x_n))$</center>\n",
    "\n",
    "$s_t(x)$ returns the state of a cell $x$ at a given time $t$. \n",
    "\n",
    "The set $N_x = \\{x_0, x_1, x_2,...,x_n\\}$ represents the neighborhood of $x$.\n",
    "\n",
    "Another important concept to discuss is the idea of a neighborhood. we introduced neighborhoods as some set  \n",
    "\n",
    "<img src=\"../res/sayama-neighborhoods.png\">\n",
    "<center><em>Figure 1.1: A diagram demonstrating a von Neumann neighborhood (left) and a Moore neighborhood (right). Image from Sayama ch. 11, pg. 187</em></center>\n",
    "\n",
    "An essential assumption of a CA is that the same state transition function, state set, and neighborhood rule are applied to all spatial locations. This spatial regularity and uniformity \n",
    "\n",
    "#### 1.1.b Boundaries\n",
    "\n",
    "1. **No Boundaries**: the space is infinite and filled with the quiescent state unless otherwise specified.\n",
    "2. **Periodic Boundaries**: the space is finite\n",
    "3. **Cut-off Boundaries**: the space has fixed borders with no neighbors beyond those borders\n",
    "4. **Fixed Boundaries**:\n",
    "\n",
    "#### 1.1.c Classes of Cellular Automata\n",
    "\n",
    "In the 1980s, computer scientist Stephen Wolfram published a book titled *A New Kind of Science* in which he presents and discusses various forms of simple computational models, including CA. Within this book, Wolfram defined four broad classes into which cellular automata can be divided. These definitions relate to the long-term behavior of a cellular automaton as it evolves over time:\n",
    "\n",
    "1. **Class 1**: Almost all initial patterns evolve into a single uniform state. Behavior is simple.\n",
    "2. **Class 2**: Initial patterns can evolve into many different stable or oscillating states. These states consist of a set of simple structures.\n",
    "3. **Class 3**: Initial patterns evolve in a pseudorandom, seemingly chaotic matter. Some small-scale structures may still be seen.\n",
    "4. **Class 4**: Involves a mixture of order and randomness. Simple local structures are produced (similarly to a Class 2), but these structures interact with each other in increasingly complex ways. This class is thought to be computationally universal.\n",
    "\n",
    "<img src=\"../res/wolfram-classes.png\">\n",
    "<center><em>Figure 1.2 An example of each type of class. The top of each image represents the initial conditions, and timesteps progress downward. Image taken from page 231 of Wolfram's *A New Kind of Science*.</em></center>\n",
    "\n",
    "The interested reader is invited to explore this book further at https://www.wolframscience.com/nks/.\n",
    "\n",
    "At this point, we have completed a high level overview of CA, and we now have a toolbox of basic concepts and definitions to be able to move forward into our case study. However, the set of concepts and rules defined above are not exhaustive. As it is with any form of modeling, the specifics rely heavily on the description and configuration of the problem itself. \n",
    "\n",
    "## 1.2 A Case Study: Game of Life\n",
    "\n",
    "To accompany our exploration of this framework, we introduce \n",
    "\n",
    "Despite simplicty, complex nontrivial behaviors can arise from the interactions between cells.\n",
    "\n",
    "Proposed by British mathematician John Conway in 1970, Game of Life is one of the most well-known examples of a cellular automaton\n",
    "\n",
    "Game of Life is a good introduction to CA because it is a simple and easily understandable case study. the model achieves impressive diversity of behavior\n",
    "\n",
    "In this section, we explore a basic Python implementation of Game of Life ... and to serve as a foundation for the rest of this tutorial.\n",
    "\n",
    "boundaries (cut-off)\n",
    "\n",
    "First, let's import our libraries. We utilize numpy for its powerful array capabilities, matplotlib for creating colormap plots, the random library for random number generation, and itertools.product for generating Cartesian products."
   ]
  },
  {
   "cell_type": "code",
   "execution_count": 15,
   "metadata": {},
   "outputs": [],
   "source": [
    "import numpy as np\n",
    "import matplotlib.pyplot as plt\n",
    "import matplotlib.colors as colors\n",
    "import random\n",
    "from itertools import product"
   ]
  },
  {
   "cell_type": "markdown",
   "metadata": {},
   "source": [
    "To begin, we first define our state set. Every cell consists of one of two self-explanatory states:\n",
    "1. Alive\n",
    "2. Dead\n",
    "    \n",
    "Per our definitions in 1.1.a, a Dead cell is a quiescent cell, and an Alive cell is an active cell. Let's associate these states with the integers 1 and 0. Although we could use booleans, using integers opens the door to possibly including more states when we expand the model in later tutorials."
   ]
  },
  {
   "cell_type": "code",
   "execution_count": 2,
   "metadata": {},
   "outputs": [],
   "source": [
    "# States:\n",
    "ALIVE = 1\n",
    "DEAD = 0"
   ]
  },
  {
   "cell_type": "markdown",
   "metadata": {},
   "source": [
    "With our states defined, we now need a way of generating \n",
    "\n",
    "mention initial conditions, how we represent the world, "
   ]
  },
  {
   "cell_type": "code",
   "execution_count": 3,
   "metadata": {},
   "outputs": [],
   "source": [
    "def init_world(n = 16, cluster_n = 4, clusters = 3, threshold = 0.25):\n",
    "    world = np.zeros((n, n), dtype=int)\n",
    "\n",
    "    for i in range(0, clusters):\n",
    "        x = random.randint(0, n - cluster_n)\n",
    "        y = random.randint(0, n - cluster_n)\n",
    "        for world_x in range(x, x + cluster_n):\n",
    "            for world_y in range(y, y + cluster_n):\n",
    "                if random.uniform(0, 1) >= (1 - threshold):\n",
    "                    world[world_x, world_y] = ALIVE\n",
    "\n",
    "    return world"
   ]
  },
  {
   "cell_type": "markdown",
   "metadata": {},
   "source": [
    "To draw our world, we utilize matplotlib"
   ]
  },
  {
   "cell_type": "code",
   "execution_count": 4,
   "metadata": {},
   "outputs": [
    {
     "data": {
      "image/png": "[encoded data removed]",
      "text/plain": [
       "<Figure size 432x288 with 1 Axes>"
      ]
     },
     "metadata": {
      "needs_background": "light"
     },
     "output_type": "display_data"
    }
   ],
   "source": [
    "def plot_world(world):\n",
    "    cmap = colors.ListedColormap(['white', 'red'])\n",
    "    plt.pcolor(world, cmap=cmap, edgecolor=\"black\")\n",
    "    plt.axis('square')\n",
    "    plt.show()\n",
    "    \n",
    "world = init_world() # initialize world with default conditions\n",
    "plot_world(world)"
   ]
  },
  {
   "cell_type": "markdown",
   "metadata": {},
   "source": [
    "Each time step is viewed as a *generation*. Transitions between generations follow the Moore neighborhood paradigm and are as follows:\n",
    "1. Any living cell with fewer than 2 neighbors dies **(underpopulation)**\n",
    "2. Any living cell with 2 or 3 neighbors lives on to the next generation\n",
    "3. Any living cell with more than 3 neighbors dies **(overpopulation)**\n",
    "4. Any dead cell with exactly 3 neighbors becomes a living cell **(reproduction)**\n",
    "\n",
    "With these rules in mind, we can define a function that will take in the x and y coordinates of a cell, get its neighbors, and perform an update based on the number of living cells surrounding it. This update will be reflected in our world state variable.\n",
    "\n",
    "As mentioned previously, our implementation of Game of Life assumes cut-off boundaries, therefore our state transition function must take this fact into account."
   ]
  },
  {
   "cell_type": "code",
   "execution_count": 5,
   "metadata": {},
   "outputs": [],
   "source": [
    "def update_cell(world, x, y):\n",
    "    num_alive = 0\n",
    "    current_state = world[x,y]\n",
    "\n",
    "    #count neighbors accounting for boundaries\n",
    "    x_range = range(max(x - 1, 0), min(x + 1, world.shape[0] - 1) + 1)\n",
    "    y_range = range(max(y - 1, 0), min(y + 1, world.shape[1] - 1) + 1)\n",
    "\n",
    "    #count the number of living cells in the von Neumann neighborhood of coordinates around our cell\n",
    "    for cell_x, cell_y in product(x_range, y_range):\n",
    "        if (not (cell_x, cell_y) == (x, y) and world[cell_x, cell_y] == ALIVE):\n",
    "            num_alive += 1\n",
    "\n",
    "    if (current_state == DEAD and not num_alive == 3):\n",
    "        return DEAD\n",
    "    elif (current_state == ALIVE and (num_alive < 2 or num_alive > 3)):\n",
    "        return DEAD\n",
    "    else:\n",
    "        return ALIVE"
   ]
  },
  {
   "cell_type": "markdown",
   "metadata": {},
   "source": [
    "We now have a function that applies an update to an individual cell (represented by an (x,y) coordinate). However, in order to move the current configuration of the world from \n",
    "\n",
    "This function performs a cell update for every cell on the board."
   ]
  },
  {
   "cell_type": "code",
   "execution_count": 7,
   "metadata": {},
   "outputs": [],
   "source": [
    "def timestep(world):\n",
    "    rows = world.shape[0]\n",
    "    cols = world.shape[1]\n",
    "\n",
    "    new_state = np.zeros((rows, cols), dtype=int)\n",
    "    for x in range(0, rows):\n",
    "        for y in range(0, cols):\n",
    "            new_state[x,y] = update_cell(world, x, y)\n",
    "\n",
    "    return new_state"
   ]
  },
  {
   "cell_type": "markdown",
   "metadata": {},
   "source": [
    "It is important to note that this update is **synchronous**, which means that the entire world is updated simultaneously. Essentially, if a cell's state changes, that change is not accounted for until the next timestep, and to accomplish this we create a separate world state and apply the changes to that as we iterate through the grid. Depending on the\n",
    "\n",
    "note optimization/brute force, O(n^2)\n",
    "\n",
    "Let's view an example of a timestep. First, let's generate a small enough world so that we can easily view all transitions in a timestep"
   ]
  },
  {
   "cell_type": "code",
   "execution_count": 17,
   "metadata": {},
   "outputs": [
    {
     "data": {
      "image/png": "[encoded data removed]",
      "text/plain": [
       "<Figure size 432x288 with 1 Axes>"
      ]
     },
     "metadata": {
      "needs_background": "light"
     },
     "output_type": "display_data"
    }
   ],
   "source": [
    "world = init_world(n = 4, cluster_n = 3, clusters = 2)\n",
    "plot_world(world)"
   ]
  },
  {
   "cell_type": "markdown",
   "metadata": {},
   "source": [
    "\n",
    "\n",
    "\n",
    "include link to game of life script\n",
    "\n",
    "\n",
    "density plots, phase space?, transition diagrams?, cobweb plots?"
   ]
  }
 ],
 "metadata": {
  "kernelspec": {
   "display_name": "Python 3",
   "language": "python",
   "name": "python3"
  },
  "language_info": {
   "codemirror_mode": {
    "name": "ipython",
    "version": 3
   },
   "file_extension": ".py",
   "mimetype": "text/x-python",
   "name": "python",
   "nbconvert_exporter": "python",
   "pygments_lexer": "ipython3",
   "version": "3.7.1"
  }
 },
 "nbformat": 4,
 "nbformat_minor": 2
}
