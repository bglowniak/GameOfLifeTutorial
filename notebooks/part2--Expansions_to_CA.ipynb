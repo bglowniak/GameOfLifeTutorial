{
 "cells": [
  {
   "cell_type": "markdown",
   "metadata": {},
   "source": [
    "# Part 2: Extensions to Basic Cellular Automata\n",
    "\n",
    "In this part of the tutorial, we look at ways to expand upon the cellular automata model, and to make the model more expressive. In the original version, in keeping with Conway's Game of Life, we made many assumptions including deterministic behavior, synchronous updates, and cells that could live indefinitely. In this section we examine each of these assumptions and how to go forego them, in an attempt to more closely mimic characteristics a real population might have."
   ]
  },
  {
   "cell_type": "markdown",
   "metadata": {},
   "source": [
    "## 2.1 Asynchronous Updates\n",
    "\n",
    "Unlike the original model we developed in section 1, we now explore asynchronous updates to the grid world. This means that instead of updating states as a function of only the previous state, we now update the cells in-place as a function of all prior updates, updating one cell at a time and allowing that to affect subsequent updates. This method of updating the states of cells may better mimic a real population because a whole population doesn't have all births and deaths occur so simultaneously, and instead one death or birth may affect other processes.\n",
    "\n",
    "To do this, first we keep most of the functions the same from the last version, which is shown below for use in this notebook as well as for your reference."
   ]
  },
  {
   "cell_type": "code",
   "execution_count": null,
   "metadata": {},
   "outputs": [],
   "source": [
    "import numpy as np\n",
    "import matplotlib.pyplot as plt\n",
    "import matplotlib.colors as colors\n",
    "import random\n",
    "from itertools import product\n",
    "\n",
    "ALIVE = 1\n",
    "DEAD = 0\n",
    "\n",
    "def init_world(n = 16, cluster_n = 4, clusters = 3, threshold = 0.25):\n",
    "    world = np.zeros((n, n), dtype=int)\n",
    "\n",
    "    for i in range(0, clusters):\n",
    "        x = random.randint(0, n - cluster_n)\n",
    "        y = random.randint(0, n - cluster_n)\n",
    "        for world_x in range(x, x + cluster_n):\n",
    "            for world_y in range(y, y + cluster_n):\n",
    "                if random.uniform(0, 1) >= (1 - threshold):\n",
    "                    world[world_x, world_y] = ALIVE\n",
    "\n",
    "    return world\n",
    "\n",
    "def update_cell(world, x, y):\n",
    "    num_alive = 0\n",
    "    current_state = world[x,y]\n",
    "\n",
    "    #count neighbors\n",
    "    x_range = range(max(x - 1, 0), min(x + 1, world.shape[0] - 1) + 1)\n",
    "    y_range = range(max(y - 1, 0), min(y + 1, world.shape[1] - 1) + 1)\n",
    "\n",
    "    for cell_x, cell_y in product(x_range, y_range):\n",
    "        if (not (cell_x, cell_y) == (x, y) and world[cell_x, cell_y] == ALIVE):\n",
    "            num_alive += 1\n",
    "\n",
    "    if (current_state == DEAD and not num_alive == 3):\n",
    "        return DEAD\n",
    "    elif (current_state == ALIVE and (num_alive < 2 or num_alive > 3)):\n",
    "        return DEAD\n",
    "    else:\n",
    "        return ALIVE\n",
    "\n",
    "def count_alive(world):\n",
    "    pass\n",
    "\n",
    "def count_dead(world):\n",
    "    pass\n",
    "\n",
    "#brute force implementation for now, need to optimize\n",
    "def timestep(world):\n",
    "    rows = world.shape[0]\n",
    "    cols = world.shape[1]\n",
    "\n",
    "    new_state = np.zeros((rows, cols), dtype=int)\n",
    "    for x in range(0, rows):\n",
    "        for y in range(0, cols):\n",
    "            new_state[x,y] = update_cell(world, x, y)\n",
    "\n",
    "    return new_state\n",
    "\n",
    "def plot_world(world, title):\n",
    "    cmap = colors.ListedColormap(['white', 'red'])\n",
    "    plt.pcolor(world, cmap=cmap, edgecolor=\"black\")\n",
    "    plt.axis('square')\n",
    "    plt.title(title)\n",
    "    plt.show()\n",
    "\n",
    "def timeseries(world, num_steps):\n",
    "    simulation_steps = [world]\n",
    "    for i in range(0, num_steps):\n",
    "        world = timestep(world)\n",
    "        simulation_steps.append(world)\n",
    "\n",
    "    return simulation_steps\n",
    "\n",
    "def count_alive(world):\n",
    "    return len(np.where((world == ALIVE).astype(int))[0])\n",
    "\n",
    "def count_dead(world):\n",
    "    return len(np.where((world == DEAD).astype(int))[0])\n",
    "\n",
    "def plot_density(timeseries):\n",
    "    densities = []\n",
    "    n = len(timeseries[0])\n",
    "    for i in range(0, len(timeseries)):\n",
    "        densities.append(count_alive(timeseries[i]) / (n * n))\n",
    "\n",
    "    plt.plot(densities)\n",
    "    plt.xlabel(\"Time\")\n",
    "    plt.ylabel(\"Density\")\n",
    "    plt.suptitle(\"Density Plot for t = \" + str(len(timeseries)) + \" steps\")\n",
    "    plt.show()"
   ]
  },
  {
   "cell_type": "markdown",
   "metadata": {},
   "source": [
    "First, we'll run a short simulation, plotting the initial and final state after 20 world update iterations"
   ]
  },
  {
   "cell_type": "code",
   "execution_count": null,
   "metadata": {},
   "outputs": [],
   "source": [
    "world = init_world(n = 32, cluster_n = 7, clusters = 10)\n",
    "series = timeseries(world, 100)\n",
    "plot_world(series[0], \"Initial State\")\n",
    "plot_world(series[-1], \"State after Iterations\")\n",
    "plot_density(series)"
   ]
  },
  {
   "cell_type": "markdown",
   "metadata": {},
   "source": [
    "An important thing to note here is that the density of the model over time decreases, or at least doesn't grow explosively. This is a defining feature of the Game of Life in its standard form."
   ]
  },
  {
   "cell_type": "markdown",
   "metadata": {},
   "source": [
    "Now we add asynchronous updates by changing the timestep and timeseries functions. First, we change the timestep function by starting the new_state with a copy of the old world, then using the new_state to determing updates while subsequently updating the new_state and repeating for each square in the grid world."
   ]
  },
  {
   "cell_type": "code",
   "execution_count": null,
   "metadata": {},
   "outputs": [],
   "source": [
    "#update rectilinearly\n",
    "    \n",
    "def timestep_async(world):\n",
    "    rows = world.shape[0]\n",
    "    cols = world.shape[1]\n",
    "    \n",
    "    new_state = world.copy()\n",
    "    for x in range(0, rows):\n",
    "        for y in range(0, cols):\n",
    "            new_state[x,y] = update_cell(new_state, x, y)\n",
    "            \n",
    "    return new_state\n",
    "\n",
    "def timeseries_async(world, num_steps):\n",
    "    simulation_steps = [world]\n",
    "    for i in range(0, num_steps):\n",
    "        world = timestep_async(world)\n",
    "        simulation_steps.append(world)\n",
    "\n",
    "    return simulation_steps"
   ]
  },
  {
   "cell_type": "markdown",
   "metadata": {},
   "source": [
    "Now we see a comparison between the original state, the world after 20 synchrounous updates, and after 20 asynchronous updates to get a good visual comparison of how the world behaves."
   ]
  },
  {
   "cell_type": "code",
   "execution_count": null,
   "metadata": {},
   "outputs": [],
   "source": [
    "world = init_world(n = 32, cluster_n = 10, clusters = 5)\n",
    "series = timeseries(world, 100)\n",
    "series_async = timeseries_async(world, 100)\n",
    "plot_world(world, \"Initial State\")\n",
    "plot_world(series[-1], \"Synchronous Updates\")\n",
    "plot_density(series)\n",
    "plot_world(series_async[-1], \"Asynchronous Updates\")\n",
    "plot_density(series_async)"
   ]
  },
  {
   "cell_type": "markdown",
   "metadata": {},
   "source": [
    "From these graphs, we see that the synchronous updates created a grid with likely fewer live nodes, and more spatially grouped. The asynchronous updates grid however has many more live squares, and a maze-like pattern (lots of horizontal and vertical lines) has formed, showing a distinctly macroscopic organization of the live nodes. This concept relates to the last section of this tutorial, but we get a taste for self-organization here. Also noteworthy is that the density of live cells in the aynchronous grid world grows constantly, defeating the stability of the standard Game of Life."
   ]
  },
  {
   "cell_type": "markdown",
   "metadata": {},
   "source": [
    "## 2.2 Stochasticity\n",
    "\n",
    "Most cellular automata are perfectly deterministic models, showing the natural progression of a system whose outcome is guaranteed the moment a starting state is chosen. While this model has many interesting properties that create deterministic emergent behaviors like spaceships (a formation that's unlikely with stochasticity), it may be an oversimplification of real populations. In the real world things happen with enough variables that a stochastic model may be a more realistic prediction of behaviors.\n",
    "\n",
    "There are many ways to add stochasticity to our model, but one that fits well with asynchronous updates from before is to choose cells to update at random, allowing the model to grow and evolve in a much less rigid and organized way, mimicking the randomness a real population might experience. \n",
    "\n",
    "This new model is a much closer mimic of a real population than the original model, and we can examine its behavior in the exercise below."
   ]
  },
  {
   "cell_type": "markdown",
   "metadata": {},
   "source": [
    "To change our model to allow for random asynchronous updates, we take the asynchronous timestep and timeseries functions from before, except this time we change the way timestep operates. In this function, for the total number of squares there are in a grid-world, we choose a cell completely at random using python's random library, creating a random int within the row and column range and updating that cell. We update timeseries to call our new timestep function."
   ]
  },
  {
   "cell_type": "code",
   "execution_count": null,
   "metadata": {},
   "outputs": [],
   "source": [
    "#update randomly\n",
    "import random\n",
    "\n",
    "def timestep_rasync(world):\n",
    "    rows = world.shape[0]\n",
    "    cols = world.shape[1]\n",
    "    \n",
    "    new_state = world.copy()\n",
    "    for x in range(0, rows*cols):\n",
    "        x = random.randint(0,rows-1)\n",
    "        y = random.randint(0,cols-1)\n",
    "        new_state[x,y] = update_cell(new_state, x, y)\n",
    "            \n",
    "    return new_state\n",
    "\n",
    "def timeseries_rasync(world, num_steps):\n",
    "    simulation_steps = [world]\n",
    "    for i in range(0, num_steps):\n",
    "        world = timestep_rasync(world)\n",
    "        simulation_steps.append(world)\n",
    "\n",
    "    return simulation_steps"
   ]
  },
  {
   "cell_type": "markdown",
   "metadata": {},
   "source": [
    "Now we run a simulation using both asynchronous models we have developed so far. First we examine the initial state, then the world after rectilinear asynchronous updates, then random asynchronous updates."
   ]
  },
  {
   "cell_type": "code",
   "execution_count": null,
   "metadata": {},
   "outputs": [],
   "source": [
    "world = init_world(n = 32, cluster_n = 8, clusters = 5)\n",
    "series_async = timeseries_async(world, 100)\n",
    "series_rasync = timeseries_rasync(world, 100)\n",
    "plot_world(world, \"Initial State\")\n",
    "plot_world(series_async[-1], \"Rectilinear Asynchronous Updates\")\n",
    "plot_density(series_async)\n",
    "plot_world(series_rasync[-1], \"Stochastic Asynchronous Updates\")\n",
    "plot_density(series_rasync)"
   ]
  },
  {
   "cell_type": "markdown",
   "metadata": {},
   "source": [
    "Here we notice that the random updates tend to form a strikingly similar model to the asynchronous updates. However, the asynchronous model creates a visually smaller region of living cells, indicating that random updates may disrupt a pattern within the rectilinear updates that spreads more evenly across the grid space. Also, we again see that the densities of the asynchronous update grid worlds grow significantly over time, which if this continues forever, it could be a poor model of many real world populations that all have some carrying capacity."
   ]
  },
  {
   "cell_type": "markdown",
   "metadata": {},
   "source": [
    "\n",
    "## 2.3 Time To Live (TTL)\n",
    "\n",
    "The cells in our first model in section 1 lived forever, which could be seen as somewhat unnatural. In reality all members of a population eventually die, so we can use a time-to-live component where if a cell is alive for too long, it dies. Here, we'll consider a cell going from DEAD to ALIVE resets the time to live, while decrementing a counter for each update a cell stays ALIVE.\n",
    "\n",
    "To do this, we can simply replace the world array with the time to live values, making 0 be still DEAD, while any number greater than 0 indicates the ALIVE state. We need to decide on an initial time to live value, which we'll call START_TTL. This value can be adjusted to whichever value seems to produce the most interesting results. We have left this start value as 6 from our own experiments, but the interested reader is encouraged to play around with this value to examine how it affects the behavior of the model."
   ]
  },
  {
   "cell_type": "code",
   "execution_count": null,
   "metadata": {},
   "outputs": [],
   "source": [
    "#time to live component\n",
    "#we have to change a lot, a world now needs an equally sized array of time to live, first with normal updates\n",
    "DEAD = 0\n",
    "START_TTL = 6\n",
    "\n",
    "def init_world_ttl(n = 16, cluster_n = 4, clusters = 3, threshold = 0.25):\n",
    "    world = np.zeros((n, n), dtype=int)\n",
    "\n",
    "    for i in range(0, clusters):\n",
    "        x = random.randint(0, n - cluster_n)\n",
    "        y = random.randint(0, n - cluster_n)\n",
    "        for world_x in range(x, x + cluster_n):\n",
    "            for world_y in range(y, y + cluster_n):\n",
    "                if random.uniform(0, 1) >= (1 - threshold):\n",
    "                    world[world_x, world_y] = START_TTL #change\n",
    "    return world\n",
    "\n",
    "def update_cell_ttl(world, x, y):\n",
    "    num_alive = 0\n",
    "    current_state = world[x,y]\n",
    "\n",
    "    #count neighbors\n",
    "    x_range = range(max(x - 1, 0), min(x + 1, world.shape[0] - 1) + 1)\n",
    "    y_range = range(max(y - 1, 0), min(y + 1, world.shape[1] - 1) + 1)\n",
    "\n",
    "    for cell_x, cell_y in product(x_range, y_range):\n",
    "        if (not (cell_x, cell_y) == (x, y) and world[cell_x, cell_y] > DEAD):\n",
    "            num_alive += 1\n",
    "\n",
    "    if current_state == DEAD:\n",
    "        if not num_alive == 3:\n",
    "            return DEAD\n",
    "        else:\n",
    "            return START_TTL\n",
    "    else:\n",
    "        if num_alive != 2 and num_alive != 3:\n",
    "            return DEAD\n",
    "        else:\n",
    "            return current_state - 1\n",
    "\n",
    "def timestep_ttl(world):\n",
    "    rows = world.shape[0]\n",
    "    cols = world.shape[1]\n",
    "\n",
    "    new_state = np.zeros((rows, cols), dtype=int)\n",
    "    for x in range(0, rows):\n",
    "        for y in range(0, cols):\n",
    "            new_state[x,y] = update_cell_ttl(world, x, y)\n",
    "\n",
    "    return new_state\n",
    "\n",
    "def timeseries_ttl(world, num_steps):\n",
    "    simulation_steps = [world]\n",
    "    for i in range(0, num_steps):\n",
    "        world = timestep_ttl(world)\n",
    "        simulation_steps.append(world)\n",
    "\n",
    "    return simulation_steps"
   ]
  },
  {
   "cell_type": "markdown",
   "metadata": {},
   "source": [
    "Below, we test the model first showing the initial state, then the world after being updated according to the standard Game of Life, and finally after being updated according to the functions using a time to live value. Again, we encourage the reader to adjust the START_TTL value and rerun the cell below to examine different behaviors."
   ]
  },
  {
   "cell_type": "code",
   "execution_count": null,
   "metadata": {},
   "outputs": [],
   "source": [
    "START_TTL = 4\n",
    "\n",
    "world = init_world(n = 64, cluster_n = 10, clusters = 20)\n",
    "world_ttl = init_world_ttl(n = 64, cluster_n = 10, clusters = 20)\n",
    "series = timeseries(world, 50)\n",
    "series_ttl = timeseries_ttl(world_ttl, 50)\n",
    "plot_world(world, \"Initial State\")\n",
    "plot_world(series[-1], \"Unlimited TTL\")\n",
    "plot_density(series)\n",
    "plot_world(series_ttl[-1], \"Limited TTL\")\n",
    "plot_density(series_ttl)"
   ]
  },
  {
   "cell_type": "markdown",
   "metadata": {},
   "source": [
    "Examining the output of the above graphs, we notice that with a large START_TTL, the output will be remarkably similar to the standard game of life. This is because if the time to live for a node is very high, it will take a long time for it to die any other way than Game of Life's normal lonliness or overcrowding. However, as the START_TTL is reduced towards a small number (4 or smaller), the grid world tends to lose all life. This is in contrast to the asynchronous update models which tend to grow explosively. Therefore, in the next section we combine these two in order to make an attempt at achieving a stable growth rate."
   ]
  },
  {
   "cell_type": "code",
   "execution_count": null,
   "metadata": {},
   "outputs": [],
   "source": [
    "def timestep_async_ttl(world):\n",
    "    rows = world.shape[0]\n",
    "    cols = world.shape[1]\n",
    "    \n",
    "    new_state = world.copy()\n",
    "    for x in range(0, rows):\n",
    "        for y in range(0, cols):\n",
    "            new_state[x,y] = update_cell_ttl(new_state, x, y)\n",
    "            \n",
    "    return new_state\n",
    "\n",
    "def timeseries_async_ttl(world, num_steps):\n",
    "    simulation_steps = [world]\n",
    "    for i in range(0, num_steps):\n",
    "        world = timestep_async_ttl(world)\n",
    "        simulation_steps.append(world)\n",
    "\n",
    "    return simulation_steps"
   ]
  },
  {
   "cell_type": "code",
   "execution_count": null,
   "metadata": {},
   "outputs": [],
   "source": [
    "START_TTL = 4\n",
    "\n",
    "world = init_world(n = 64, cluster_n = 10, clusters = 20)\n",
    "world_ttl = init_world_ttl(n = 64, cluster_n = 10, clusters = 20)\n",
    "series = timeseries(world, 50)\n",
    "series_async_ttl = timeseries_async_ttl(world_ttl, 50)\n",
    "plot_world(world, \"Initial State\")\n",
    "plot_world(series[-1], \"Standard Game of Life\")\n",
    "plot_density(series)\n",
    "plot_world(series_async_ttl[-1], \"Asynchronous Updates & TTL\")\n",
    "plot_density(series_async_ttl)"
   ]
  },
  {
   "cell_type": "markdown",
   "metadata": {},
   "source": [
    "With the initial TTL value of 4, we achieve a mostly stable growth rate, similar to that of the standard Game of life. However, our resulting model has more properties similar to that of a real population, namely that cells don't live forever, and updates to cells influence all future updates asynchronously. "
   ]
  },
  {
   "cell_type": "markdown",
   "metadata": {},
   "source": [
    "## Part 2 Conclusion\n",
    "\n",
    "These are only a few of the ways we can update the cellular automata model; there are many other ways to work with cellular automata that make them an exceptionally expressive model. For our purposes, it creates some interesting emergent behaviors as with the asynchronous updates and the resulting maze-like pattern, and the reader is encouraged to consider other ways the model could be changed to further explore its applications."
   ]
  }
 ],
 "metadata": {
  "kernelspec": {
   "display_name": "Python 3",
   "language": "python",
   "name": "python3"
  },
  "language_info": {
   "codemirror_mode": {
    "name": "ipython",
    "version": 3
   },
   "file_extension": ".py",
   "mimetype": "text/x-python",
   "name": "python",
   "nbconvert_exporter": "python",
   "pygments_lexer": "ipython3",
   "version": "3.6.4"
  }
 },
 "nbformat": 4,
 "nbformat_minor": 2
}
